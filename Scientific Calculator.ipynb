{
 "cells": [
  {
   "cell_type": "code",
   "execution_count": 35,
   "metadata": {},
   "outputs": [],
   "source": [
    "from tkinter import *\n",
    "import tkinter.messagebox as tmsg\n",
    "import os\n",
    "import time\n",
    "from math import *"
   ]
  },
  {
   "cell_type": "code",
   "execution_count": 36,
   "metadata": {},
   "outputs": [],
   "source": [
    "def getvals(event):\n",
    "    value = event.widget.cget('text')\n",
    "    if value=='Clr':\n",
    "        sc_variable.set('')\n",
    "    elif value=='=':\n",
    "        try:\n",
    "            sc_variable.set(eval(screen.get()))\n",
    "            screen.update()\n",
    "        except Exception as e:\n",
    "            sc_variable.set('Error')\n",
    "            screen.update()\n",
    "            status_var.set('Preparing...')\n",
    "            screen.update()\n",
    "            time.sleep(2)\n",
    "            sc_variable.set('')\n",
    "            screen.update()\n",
    "            status_var.set('Ready..')\n",
    "            screen.update()\n",
    "\n",
    "    else:\n",
    "        sc_variable.set(f'{sc_variable.get()}{value}')\n"
   ]
  },
  {
   "cell_type": "code",
   "execution_count": 37,
   "metadata": {},
   "outputs": [],
   "source": [
    "def Scientific():\n",
    "    root.resizable(width= True, height= True)\n",
    "    root.geometry(\"865x523+0+0\")\n",
    "    \n",
    "def Standard():\n",
    "    root.resizable(width=True, height= True)\n",
    "    root.geometry(\"515x523+0+0\")\n",
    "\n",
    "def info():\n",
    "    tmsg.showinfo(\"Information\",'This calculator can perform basic operations, trignometric operations , exponential operations and logarithmic operations only')\n",
    "\n",
    "def feedback():\n",
    "    ans=tmsg.askquestion(\"We'd love to hear your feedback\",\"Was your experience good ? \")\n",
    "    if ans=='yes':\n",
    "        tmsg.showinfo('Feedback','Thank you for your feedback')\n",
    "    else:\n",
    "        tmsg.showinfo('Feedback','We appologise and will improve our service quality, Thank you')\n",
    "\n",
    "def help():\n",
    "    tmsg.showinfo(\"Errors\", ' Errors can occur due to improper syntax. Please check whether you have put parentheses at the places required')"
   ]
  },
  {
   "cell_type": "code",
   "execution_count": 38,
   "metadata": {},
   "outputs": [
    {
     "data": {
      "text/plain": [
       "''"
      ]
     },
     "execution_count": 38,
     "metadata": {},
     "output_type": "execute_result"
    }
   ],
   "source": [
    "root = Tk()\n",
    "root.title(\"Scientific calculator\")\n",
    "root.resizable(width=False, height= False)\n",
    "root.geometry(\"515x523+0+0\")"
   ]
  },
  {
   "cell_type": "code",
   "execution_count": 39,
   "metadata": {},
   "outputs": [],
   "source": [
    "my_menu=Menu(root)\n",
    "m0=Menu(my_menu,tearoff=0,fg='black')\n",
    "m0.add_command(label='Standard',command=Standard)\n",
    "m0.add_separator()\n",
    "m0.add_command(label='Scientific',command=Scientific)\n",
    "m1=Menu(my_menu,tearoff=0,fg='black')\n",
    "m1.add_command(label='Information',command=info)\n",
    "m1.add_command(label='Feedback',command=feedback)\n",
    "root.config(menu=my_menu)\n",
    "my_menu.add_cascade(label=' File ',menu=m0)\n",
    "my_menu.add_cascade(label=' About ',menu=m1)\n",
    "my_menu.add_command(label='Help',command=help)\n",
    "my_menu.add_command(label='Exit',command=quit)\n",
    "\n"
   ]
  },
  {
   "cell_type": "code",
   "execution_count": 40,
   "metadata": {},
   "outputs": [],
   "source": [
    "sc_variable=StringVar()\n",
    "screen=Entry(root,textvariable=sc_variable,font='lucida 35 bold',fg='black',bg='silver',borderwidth=10,width=32)\n",
    "screen.pack(pady=5)"
   ]
  },
  {
   "cell_type": "code",
   "execution_count": 41,
   "metadata": {},
   "outputs": [],
   "source": [
    "f=Frame(root)\n",
    "f.pack()\n",
    "b1=Button(f,text='Clr',font='lucida 15 bold',padx=20,pady=20,borderwidth=3,fg='black',bg='lightskyblue',width=3)\n",
    "\n",
    "b2=Button(f,text='%',font='lucida 15 bold',padx=20,pady=20,borderwidth=3,fg='black',bg='lightskyblue',width=3)\n",
    "\n",
    "b3=Button(f,text='(',font='lucida 15 bold',padx=20,pady=20,borderwidth=3,fg='black',bg='lightskyblue',width=3)\n",
    "\n",
    "b4=Button(f,text=')',font='lucida 15 bold',padx=20,pady=20,borderwidth=3,fg='black',bg='lightskyblue',width=3)\n",
    "\n",
    "b5=Button(f,text='sin',font='lucida 15 bold',padx=20,pady=20,borderwidth=3,fg='black',bg='lightskyblue',width=3)\n",
    "\n",
    "b6=Button(f,text='sinh',font='lucida 15 bold',padx=20,pady=20,borderwidth=3,fg='black',bg='lightskyblue',width=3)\n",
    "\n",
    "b7=Button(f,text='asin',font='lucida 15 bold',padx=20,pady=20,borderwidth=3,fg='black',bg='lightskyblue',width=3)\n",
    "\n",
    "b8=Button(f,text='e',font='lucida 15 bold',padx=20,pady=20,borderwidth=3,fg='black',bg='lightskyblue',width=3)\n",
    "\n",
    "b9=Button(f,text='comb',font='lucida 15 bold',padx=20,pady=20,borderwidth=3,fg='black',bg='lightskyblue',width=3)\n",
    "\n",
    "b10=Button(f,text='fmod',font='lucida 15 bold',padx=20,pady=20,borderwidth=3,fg='black',bg='lightskyblue',width=3)"
   ]
  },
  {
   "cell_type": "code",
   "execution_count": 42,
   "metadata": {},
   "outputs": [],
   "source": [
    "b1.bind('<Button-1>',getvals)\n",
    "b2.bind('<Button-1>',getvals)\n",
    "b3.bind('<Button-1>',getvals)\n",
    "b4.bind('<Button-1>',getvals)\n",
    "b5.bind('<Button-1>',getvals)\n",
    "b6.bind('<Button-1>',getvals)\n",
    "b7.bind('<Button-1>',getvals)\n",
    "b8.bind('<Button-1>',getvals)\n",
    "b9.bind('<Button-1>',getvals)\n",
    "b10.bind('<Button-1>',getvals)\n",
    "buttons=[b1,b2,b3,b4,b5,b6,b7,b8,b9,b10]\n",
    "count=0\n",
    "for i in range(10):\n",
    "        buttons[count].grid(row=1,column=i)\n",
    "        count += 1"
   ]
  },
  {
   "cell_type": "code",
   "execution_count": 43,
   "metadata": {},
   "outputs": [],
   "source": [
    "f=Frame(root)\n",
    "f.pack()\n",
    "b1=Button(f,text='+',font='lucida 15 bold',padx=20,pady=20,borderwidth=3,fg='black',bg='lightskyblue',width=3)\n",
    "\n",
    "b2=Button(f,text='7',font='lucida 15 bold',padx=20,pady=20,borderwidth=3,fg='black',bg='white',width=3)\n",
    "\n",
    "b3=Button(f,text='8',font='lucida 15 bold',padx=20,pady=20,borderwidth=3,fg='black',bg='white',width=3)\n",
    "\n",
    "b4=Button(f,text='9',font='lucida 15 bold',padx=20,pady=20,borderwidth=3,fg='black',bg='white',width=3)\n",
    "\n",
    "b5=Button(f,text='cos',font='lucida 15 bold',padx=20,pady=20,borderwidth=3,fg='black',bg='lightskyblue',width=3)\n",
    "\n",
    "b6=Button(f,text='cosh',font='lucida 15 bold',padx=20,pady=20,borderwidth=3,fg='black',bg='lightskyblue',width=3)\n",
    "\n",
    "b7=Button(f,text='acos',font='lucida 15 bold',padx=20,pady=20,borderwidth=3,fg='black',bg='lightskyblue',width=3)\n",
    "\n",
    "b8=Button(f,text='lcm',font='lucida 15 bold',padx=20,pady=20,borderwidth=3,fg='black',bg='lightskyblue',width=3)\n",
    "\n",
    "b9=Button(f,text='frexp',font='lucida 15 bold',padx=20,pady=20,borderwidth=3,fg='black',bg='lightskyblue',width=3)\n",
    "\n",
    "b10=Button(f,text='ldexp',font='lucida 15 bold',padx=20,pady=20,borderwidth=3,fg='black',bg='lightskyblue',width=3)"
   ]
  },
  {
   "cell_type": "code",
   "execution_count": 44,
   "metadata": {},
   "outputs": [],
   "source": [
    "b1.bind('<Button-1>',getvals)\n",
    "b2.bind('<Button-1>',getvals)\n",
    "b3.bind('<Button-1>',getvals)\n",
    "b4.bind('<Button-1>',getvals)\n",
    "b5.bind('<Button-1>',getvals)\n",
    "b6.bind('<Button-1>',getvals)\n",
    "b7.bind('<Button-1>',getvals)\n",
    "b8.bind('<Button-1>',getvals)\n",
    "b9.bind('<Button-1>',getvals)\n",
    "b10.bind('<Button-1>',getvals)\n",
    "buttons=[b1,b2,b3,b4,b5,b6,b7,b8,b9,b10]\n",
    "count=0\n",
    "for i in range(10):\n",
    "    buttons[count].grid(row=2,column=i)\n",
    "    count += 1\n"
   ]
  },
  {
   "cell_type": "code",
   "execution_count": 45,
   "metadata": {},
   "outputs": [],
   "source": [
    "f=Frame(root)\n",
    "f.pack()\n",
    "b1=Button(f,text='-',font='lucida 15 bold',padx=20,pady=20,borderwidth=3,fg='black',bg='lightskyblue',width=3)\n",
    "\n",
    "b2=Button(f,text='4',font='lucida 15 bold',padx=20,pady=20,borderwidth=3,fg='black',bg='white',width=3)\n",
    "\n",
    "b3=Button(f,text='5',font='lucida 15 bold',padx=20,pady=20,borderwidth=3,fg='black',bg='white',width=3)\n",
    "\n",
    "b4=Button(f,text='6',font='lucida 15 bold',padx=20,pady=20,borderwidth=3,fg='black',bg='white',width=3)\n",
    "\n",
    "b5=Button(f,text='tan',font='lucida 15 bold',padx=20,pady=20,borderwidth=3,fg='black',bg='lightskyblue',width=3)\n",
    "\n",
    "b6=Button(f,text='tanh',font='lucida 15 bold',padx=20,pady=20,borderwidth=3,fg='black',bg='lightskyblue',width=3)\n",
    "\n",
    "b7=Button(f,text='atan',font='lucida 15 bold',padx=20,pady=20,borderwidth=3,fg='black',bg='lightskyblue',width=3)\n",
    "\n",
    "b8=Button(f,text='gcd',font='lucida 15 bold',padx=20,pady=20,borderwidth=3,fg='black',bg='lightskyblue',width=3)\n",
    "\n",
    "b9=Button(f,text='floor',font='lucida 15 bold',padx=20,pady=20,borderwidth=3,fg='black',bg='lightskyblue',width=3)\n",
    "\n",
    "b10=Button(f,text='fabs',font='lucida 15 bold',padx=20,pady=20,borderwidth=3,fg='black',bg='lightskyblue',width=3)\n"
   ]
  },
  {
   "cell_type": "code",
   "execution_count": 46,
   "metadata": {},
   "outputs": [],
   "source": [
    "b1.bind('<Button-1>',getvals)\n",
    "b2.bind('<Button-1>',getvals)\n",
    "b3.bind('<Button-1>',getvals)\n",
    "b4.bind('<Button-1>',getvals)\n",
    "b5.bind('<Button-1>',getvals)\n",
    "b6.bind('<Button-1>',getvals)\n",
    "b7.bind('<Button-1>',getvals)\n",
    "b8.bind('<Button-1>',getvals)\n",
    "b9.bind('<Button-1>',getvals)\n",
    "b10.bind('<Button-1>',getvals)\n",
    "buttons=[b1,b2,b3,b4,b5,b6,b7,b8,b9,b10]\n",
    "count=0\n",
    "for i in range(10):\n",
    "    buttons[count].grid(row=3,column=i)\n",
    "    count += 1"
   ]
  },
  {
   "cell_type": "code",
   "execution_count": 47,
   "metadata": {},
   "outputs": [],
   "source": [
    "f=Frame(root)\n",
    "f.pack()\n",
    "b1=Button(f,text='*',font='lucida 15 bold',padx=20,pady=20,borderwidth=3,fg='black',bg='lightskyblue',width=3)\n",
    "\n",
    "b2=Button(f,text='1',font='lucida 15 bold',padx=20,pady=20,borderwidth=3,fg='black',bg='white',width=3)\n",
    "\n",
    "b3=Button(f,text='2',font='lucida 15 bold',padx=20,pady=20,borderwidth=3,fg='black',bg='white',width=3)\n",
    "\n",
    "b4=Button(f,text='3',font='lucida 15 bold',padx=20,pady=20,borderwidth=3,fg='black',bg='white',width=3)\n",
    "\n",
    "b5=Button(f,text='pi',font='lucida 15 bold',padx=20,pady=20,borderwidth=3,fg='black',bg='lightskyblue',width=3)\n",
    "\n",
    "b6=Button(f,text='log',font='lucida 15 bold',padx=20,pady=20,borderwidth=3,fg='black',bg='lightskyblue',width=3)\n",
    "\n",
    "b7=Button(f,text='sqrt',font='lucida 15 bold',padx=20,pady=20,borderwidth=3,fg='black',bg='lightskyblue',width=3)\n",
    "\n",
    "b8=Button(f,text='factorial',font='lucida 15 bold',padx=20,pady=20,borderwidth=3,fg='black',bg='lightskyblue',width=3)\n",
    "\n",
    "b9=Button(f,text='radians',font='lucida 15 bold',padx=20,pady=20,borderwidth=3,fg='black',bg='lightskyblue',width=3)\n",
    "\n",
    "b10=Button(f,text='exp',font='lucida 15 bold',padx=20,pady=20,borderwidth=3,fg='black',bg='lightskyblue',width=3)"
   ]
  },
  {
   "cell_type": "code",
   "execution_count": 48,
   "metadata": {},
   "outputs": [],
   "source": [
    "b1.bind('<Button-1>',getvals)\n",
    "b2.bind('<Button-1>',getvals)\n",
    "b3.bind('<Button-1>',getvals)\n",
    "b4.bind('<Button-1>',getvals)\n",
    "b5.bind('<Button-1>',getvals)\n",
    "b6.bind('<Button-1>',getvals)\n",
    "b7.bind('<Button-1>',getvals)\n",
    "b8.bind('<Button-1>',getvals)\n",
    "b9.bind('<Button-1>',getvals)\n",
    "b10.bind('<Button-1>',getvals)\n",
    "buttons=[b1,b2,b3,b4,b5,b6,b7,b8,b9,b10]\n",
    "count=0\n",
    "for i in range(10):\n",
    "    buttons[count].grid(row=4,column=i)\n",
    "    count += 1"
   ]
  },
  {
   "cell_type": "code",
   "execution_count": 49,
   "metadata": {},
   "outputs": [],
   "source": [
    "f=Frame(root)\n",
    "f.pack()\n",
    "\n",
    "b1=Button(f,text='/',font='lucida 15 bold',padx=20,pady=20,borderwidth=3,fg='black',bg='lightskyblue',width=3)\n",
    "\n",
    "b2=Button(f,text='.',font='lucida 15 bold',padx=20,pady=20,borderwidth=3,fg='black',bg='lightskyblue',width=3)\n",
    "\n",
    "b3=Button(f,text='0',font='lucida 15 bold',padx=20,pady=20,borderwidth=3,fg='black',bg='white',width=3)\n",
    "\n",
    "b4=Button(f,text=',',font='lucida 15 bold',padx=20,pady=20,borderwidth=3,fg='black',bg='lightskyblue',width=3)\n",
    "\n",
    "b5=Button(f,text='log10',font='lucida 15 bold',padx=20,pady=20,borderwidth=3,fg='black',bg='lightskyblue',width=3)\n",
    "\n",
    "b6=Button(f,text='=',font='lucida 15 bold',padx=20,pady=20,borderwidth=3,fg='black',bg='lightskyblue',width=3)\n",
    "\n",
    "b7=Button(f,text='ceil',font='lucida 15 bold',padx=20,pady=20,borderwidth=3,fg='black',bg='lightskyblue',width=3)\n",
    "\n",
    "b8=Button(f,text='pow',font='lucida 15 bold',padx=20,pady=20,borderwidth=3,fg='black',bg='lightskyblue',width=3)\n",
    "\n",
    "b9=Button(f,text='degrees',font='lucida 15 bold',padx=20,pady=20,borderwidth=3,fg='black',bg='lightskyblue',width=3)\n",
    "\n",
    "b10=Button(f,text='dis',font='lucida 15 bold',padx=20,pady=20,borderwidth=3,fg='black',bg='lightskyblue',width=3)"
   ]
  },
  {
   "cell_type": "code",
   "execution_count": 50,
   "metadata": {},
   "outputs": [],
   "source": [
    "b1.bind('<Button-1>',getvals)\n",
    "b2.bind('<Button-1>',getvals)\n",
    "b3.bind('<Button-1>',getvals)\n",
    "b4.bind('<Button-1>',getvals)\n",
    "b5.bind('<Button-1>',getvals)\n",
    "b6.bind('<Button-1>',getvals)\n",
    "b7.bind('<Button-1>',getvals)\n",
    "b8.bind('<Button-1>',getvals)\n",
    "b9.bind('<Button-1>',getvals)\n",
    "b10.bind('<Button-1>',getvals)\n",
    "buttons=[b1,b2,b3,b4,b5,b6,b7,b8,b9,b10]\n",
    "count=0\n",
    "for i in range(10):\n",
    "    buttons[count].grid(row=5,column=i)\n",
    "    count += 1"
   ]
  },
  {
   "cell_type": "code",
   "execution_count": 51,
   "metadata": {},
   "outputs": [],
   "source": [
    "status_var=StringVar()\n",
    "status_var.set('Ready..')\n",
    "Label(root,textvariable=status_var,relief=SUNKEN,anchor='w',borderwidth=3,bg='silver',fg='black').pack(side=BOTTOM,fill=X)\n",
    "\n",
    "root.mainloop()\n"
   ]
  }
 ],
 "metadata": {
  "kernelspec": {
   "display_name": "Python 3",
   "language": "python",
   "name": "python3"
  },
  "language_info": {
   "codemirror_mode": {
    "name": "ipython",
    "version": 3
   },
   "file_extension": ".py",
   "mimetype": "text/x-python",
   "name": "python",
   "nbconvert_exporter": "python",
   "pygments_lexer": "ipython3",
   "version": "3.8.3"
  }
 },
 "nbformat": 4,
 "nbformat_minor": 4
}
